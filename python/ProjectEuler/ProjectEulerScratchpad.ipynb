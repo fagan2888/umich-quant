{
 "cells": [
  {
   "cell_type": "code",
   "execution_count": 4,
   "metadata": {},
   "outputs": [
    {
     "data": {
      "text/plain": [
       "[4150, 4151, 54748, 92727, 93084, 194979]"
      ]
     },
     "execution_count": 4,
     "metadata": {},
     "output_type": "execute_result"
    }
   ],
   "source": [
    "# n = 1634\n",
    "sum([n for n in range(10,200000) if n == sum([int(c)**5 for c in str(n)])])\n"
   ]
  },
  {
   "cell_type": "code",
   "execution_count": 33,
   "metadata": {},
   "outputs": [
    {
     "name": "stdout",
     "output_type": "stream",
     "text": [
      "False\n",
      "[2, 3, 5, 7, 11, 13, 17, 19, 23, 29, 31, 37, 41, 43, 47, 53, 59, 61, 67, 71]\n"
     ]
    }
   ],
   "source": [
    "primes = [2, 3, 5, 7]\n",
    "\n",
    "def is_prime(n):\n",
    "    if n < 2:\n",
    "        return False\n",
    "    if n == 2:\n",
    "        return True\n",
    "\n",
    "    for p in primes:\n",
    "        if n % p == 0:\n",
    "            return False\n",
    "        if p * p > n:\n",
    "            return True\n",
    "    while  p * p <= n:\n",
    "        p += 2\n",
    "        if n % p == 0:\n",
    "            return False\n",
    "        if is_prime(p):\n",
    "            primes.append(p)\n",
    "    return True\n",
    "\n",
    "print is_prime(10001)\n",
    "print primes\n",
    "        \n",
    "        "
   ]
  },
  {
   "cell_type": "code",
   "execution_count": 24,
   "metadata": {},
   "outputs": [
    {
     "name": "stdout",
     "output_type": "stream",
     "text": [
      "134043\n"
     ]
    }
   ],
   "source": [
    "# 46 smallest odd composite that can't be written as sum of a prime and twice a square\n",
    "\n",
    "def num_distinct_prime_factors(n):\n",
    "    if n < 2:\n",
    "        return 0\n",
    "    distinct_factors = []\n",
    "    if is_prime(n):\n",
    "        return 1\n",
    "    for p in primes:\n",
    "        if n % p == 0:\n",
    "            while n % p == 0:\n",
    "                n /= p\n",
    "            return 1 + num_distinct_prime_factors(n)\n",
    "        if p*p > n:\n",
    "            return 1\n",
    "\n",
    "num_distinct = 4\n",
    "consec_count = 0\n",
    "n = 2\n",
    "while True:\n",
    "    if num_distinct_prime_factors(n) != num_distinct:\n",
    "        consec_count = 0\n",
    "    else:\n",
    "        consec_count += 1\n",
    "        if consec_count == num_distinct:\n",
    "            print n - num_distinct + 1\n",
    "            break\n",
    "    n += 1\n"
   ]
  },
  {
   "cell_type": "code",
   "execution_count": 27,
   "metadata": {},
   "outputs": [
    {
     "name": "stdout",
     "output_type": "stream",
     "text": [
      "5777\n"
     ]
    }
   ],
   "source": [
    "# 47 smallest odd composite that can't be written as sum of a prime and twice a square\n",
    "squares = [k *k for k in range(100000)]\n",
    "n = 9\n",
    "done = False\n",
    "while not done:\n",
    "    for square in squares:\n",
    "        p = n - 2 * square\n",
    "        if p < 2:\n",
    "            print n\n",
    "            done = True\n",
    "            break\n",
    "        if is_prime(p):\n",
    "            break\n",
    "    n += 2\n",
    "    while is_prime(n):\n",
    "        n += 2\n",
    "       \n",
    "        \n",
    "        "
   ]
  },
  {
   "cell_type": "code",
   "execution_count": 37,
   "metadata": {},
   "outputs": [
    {
     "name": "stdout",
     "output_type": "stream",
     "text": [
      "55\n"
     ]
    }
   ],
   "source": [
    "# 35 Circular Primes: could make faster if we take into account only need digits using 1, 3, 7, 9\n",
    "def is_circular_prime(n):\n",
    "    length = len(str(n))\n",
    "    for _ in range(length):\n",
    "        if not is_prime(n):\n",
    "            return False\n",
    "        n = n / 10 + (n % 10) * 10**(length - 1)\n",
    "    return True\n",
    "\n",
    "upper_limit = 1000000\n",
    "print len([n for n in range(2,upper_limit) if is_circular_prime(n)])\n",
    "        "
   ]
  },
  {
   "cell_type": "code",
   "execution_count": null,
   "metadata": {
    "collapsed": true
   },
   "outputs": [],
   "source": []
  }
 ],
 "metadata": {
  "kernelspec": {
   "display_name": "Python 2",
   "language": "python",
   "name": "python2"
  },
  "language_info": {
   "codemirror_mode": {
    "name": "ipython",
    "version": 2
   },
   "file_extension": ".py",
   "mimetype": "text/x-python",
   "name": "python",
   "nbconvert_exporter": "python",
   "pygments_lexer": "ipython2",
   "version": "2.7.13"
  }
 },
 "nbformat": 4,
 "nbformat_minor": 2
}
